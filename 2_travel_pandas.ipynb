{
 "cells": [
  {
   "cell_type": "markdown",
   "metadata": {},
   "source": [
    "# En voyage avec (des) pandas\n",
    "\n",
    "Suite à la première étape où vous avez découvert (ou révisé) des bases de Python, vous allez découvrir (ou réviser) l'utilisation de la bibliothèque **pandas** pour traiter un fichier csv travel_data.csv qui contient un carnet de voyage.\n",
    "\n",
    "Pour réaliser les exercices, utilisez la documentation officielle de pandas :  \n",
    "https://pandas.pydata.org/pandas-docs/stable/\n",
    "\n",
    "N'hésitez pas à rechercher les fonctions, méthodes et exemples nécessaires pour compléter les tâches demandées.  \n",
    "\n",
    "Chaque cellule de code est précédée d'une cellule TODO indiquant la liste des objectifs à atteindre.\n",
    "\n",
    "Répondez également dans le notebook aux petites questions proposées."
   ]
  },
  {
   "cell_type": "code",
   "execution_count": 32,
   "id": "b5c50044",
   "metadata": {},
   "outputs": [
    {
     "name": "stdout",
     "output_type": "stream",
     "text": [
      "Requirement already satisfied: pandas in ./.venv/lib/python3.13/site-packages (2.3.0)\n",
      "Requirement already satisfied: numpy>=1.26.0 in ./.venv/lib/python3.13/site-packages (from pandas) (2.3.1)\n",
      "Requirement already satisfied: python-dateutil>=2.8.2 in ./.venv/lib/python3.13/site-packages (from pandas) (2.9.0.post0)\n",
      "Requirement already satisfied: pytz>=2020.1 in ./.venv/lib/python3.13/site-packages (from pandas) (2025.2)\n",
      "Requirement already satisfied: tzdata>=2022.7 in ./.venv/lib/python3.13/site-packages (from pandas) (2025.2)\n",
      "Requirement already satisfied: six>=1.5 in ./.venv/lib/python3.13/site-packages (from python-dateutil>=2.8.2->pandas) (1.17.0)\n",
      "\n",
      "\u001b[1m[\u001b[0m\u001b[34;49mnotice\u001b[0m\u001b[1;39;49m]\u001b[0m\u001b[39;49m A new release of pip is available: \u001b[0m\u001b[31;49m25.0\u001b[0m\u001b[39;49m -> \u001b[0m\u001b[32;49m25.1.1\u001b[0m\n",
      "\u001b[1m[\u001b[0m\u001b[34;49mnotice\u001b[0m\u001b[1;39;49m]\u001b[0m\u001b[39;49m To update, run: \u001b[0m\u001b[32;49mpip install --upgrade pip\u001b[0m\n"
     ]
    }
   ],
   "source": [
    "# Il faut installer la bibliothèque pandas. On verra comment faire ça proprement plus tard.\n",
    "!pip install pandas"
   ]
  },
  {
   "cell_type": "markdown",
   "metadata": {},
   "source": [
    "# 1. Charger et afficher les données\n",
    "\n",
    "**TODO**\n",
    "\n",
    "- Importer la bibliothèque pandas sous l’alias `pd`  \n",
    "- Charger le fichier `travel_journal.csv` dans un DataFrame `df_trips`  \n",
    "- Afficher les 5 premières lignes du DataFrame  \n",
    "- Afficher les types de données des colonnes"
   ]
  },
  {
   "cell_type": "code",
   "execution_count": 33,
   "metadata": {},
   "outputs": [
    {
     "name": "stdout",
     "output_type": "stream",
     "text": [
      "        city        date weather     mood  photos\n",
      "0      Paris  2024-03-15   sunny    happy     150\n",
      "1       Lyon  2024-04-10  cloudy  curious      80\n",
      "2  Marseille  2024-05-05     NaN      sad      25\n",
      "3   Bordeaux  2024-06-20   sunny  excited     200\n",
      "4       Nice  2024-07-12   sunny  relaxed     180\n",
      "city       object\n",
      "date       object\n",
      "weather    object\n",
      "mood       object\n",
      "photos      int64\n",
      "dtype: object\n"
     ]
    }
   ],
   "source": [
    "# Write your code here\n",
    "import pandas as pd\n",
    "\n",
    "df_trips = pd.read_csv('travel_data.csv')\n",
    "\n",
    "print(df_trips.head())\n",
    "\n",
    "print(df_trips.dtypes)"
   ]
  },
  {
   "cell_type": "markdown",
   "metadata": {},
   "source": [
    "# 2. Nettoyer les données manquantes\n",
    "\n",
    "**TODO**\n",
    "\n",
    "- Identifier les lignes avec des valeurs manquantes dans le DataFrame  \n",
    "- Remplacer les valeurs manquantes dans la colonne `weather` par `\"unknown\"`  \n",
    "- Convertir la colonne `date` en format datetime  \n",
    "- Trier le DataFrame par date croissante\n",
    "- Exporter les données dans un fichier clean_travel_data.csv\n",
    "- A votre avis quel autre type de vérifications pourrait-on faire afin de nettoyer les données ?"
   ]
  },
  {
   "cell_type": "code",
   "execution_count": 38,
   "metadata": {},
   "outputs": [
    {
     "name": "stderr",
     "output_type": "stream",
     "text": [
      "/var/folders/pf/7zw_qcgj0w9bsp57r_kjq13h0000gn/T/ipykernel_20656/348669499.py:8: FutureWarning: A value is trying to be set on a copy of a DataFrame or Series through chained assignment using an inplace method.\n",
      "The behavior will change in pandas 3.0. This inplace method will never work because the intermediate object on which we are setting values always behaves as a copy.\n",
      "\n",
      "For example, when doing 'df[col].method(value, inplace=True)', try using 'df.method({col: value}, inplace=True)' or df[col] = df[col].method(value) instead, to perform the operation inplace on the original object.\n",
      "\n",
      "\n",
      "  df_trips['photos'].clip(lower=0, inplace=True) # J'ai remarqué des valeurs négatives dans la colonne 'photos', je fais en sorte que ces valeurs soient égales à 0 car il me semble impossible de prendre un nombre négatif de photo.\n"
     ]
    }
   ],
   "source": [
    "# Write your code here\n",
    "df_trips['weather'] = df_trips['weather'].fillna('unknown')\n",
    "\n",
    "pd.to_datetime(df_trips['date'])\n",
    "\n",
    "df_trips.sort_values(by='date', inplace=True)\n",
    "\n",
    "df_trips['photos'].clip(lower=0, inplace=True) # J'ai remarqué des valeurs négatives dans la colonne 'photos', je fais en sorte que ces valeurs soient égales à 0 car il me semble impossible de prendre un nombre négatif de photo.\n",
    "\n",
    "df_trips.to_csv('clean_travel_data.csv', index=False)"
   ]
  },
  {
   "cell_type": "markdown",
   "metadata": {},
   "source": [
    "# 3. Filtrer et trier les voyages\n",
    "\n",
    "**TODO**\n",
    "\n",
    "- Extraire les voyages où la météo est `\"sunny\"` et le nombre de photos est supérieur à 100  \n",
    "- Trier ces voyages par nombre de photos décroissant  \n",
    "- Afficher les colonnes `city`, `date`, `photos` du résultat filtré"
   ]
  },
  {
   "cell_type": "code",
   "execution_count": 35,
   "metadata": {},
   "outputs": [
    {
     "data": {
      "text/html": [
       "<div>\n",
       "<style scoped>\n",
       "    .dataframe tbody tr th:only-of-type {\n",
       "        vertical-align: middle;\n",
       "    }\n",
       "\n",
       "    .dataframe tbody tr th {\n",
       "        vertical-align: top;\n",
       "    }\n",
       "\n",
       "    .dataframe thead th {\n",
       "        text-align: right;\n",
       "    }\n",
       "</style>\n",
       "<table border=\"1\" class=\"dataframe\">\n",
       "  <thead>\n",
       "    <tr style=\"text-align: right;\">\n",
       "      <th></th>\n",
       "      <th>city</th>\n",
       "      <th>date</th>\n",
       "      <th>photos</th>\n",
       "    </tr>\n",
       "  </thead>\n",
       "  <tbody>\n",
       "    <tr>\n",
       "      <th>3</th>\n",
       "      <td>Bordeaux</td>\n",
       "      <td>2024-06-20</td>\n",
       "      <td>200</td>\n",
       "    </tr>\n",
       "    <tr>\n",
       "      <th>4</th>\n",
       "      <td>Nice</td>\n",
       "      <td>2024-07-12</td>\n",
       "      <td>180</td>\n",
       "    </tr>\n",
       "    <tr>\n",
       "      <th>0</th>\n",
       "      <td>Paris</td>\n",
       "      <td>2024-03-15</td>\n",
       "      <td>150</td>\n",
       "    </tr>\n",
       "    <tr>\n",
       "      <th>8</th>\n",
       "      <td>Montpellier</td>\n",
       "      <td>2024-11-25</td>\n",
       "      <td>110</td>\n",
       "    </tr>\n",
       "  </tbody>\n",
       "</table>\n",
       "</div>"
      ],
      "text/plain": [
       "          city        date  photos\n",
       "3     Bordeaux  2024-06-20     200\n",
       "4         Nice  2024-07-12     180\n",
       "0        Paris  2024-03-15     150\n",
       "8  Montpellier  2024-11-25     110"
      ]
     },
     "execution_count": 35,
     "metadata": {},
     "output_type": "execute_result"
    }
   ],
   "source": [
    "# Write your code here\n",
    "df_sunny_trips = df_trips.loc[(df_trips['weather'] == 'sunny') & (df_trips['photos'] > 100)]\n",
    "\n",
    "df_sunny_trips = df_sunny_trips.sort_values(by='photos', ascending=False)\n",
    "\n",
    "df_sunny_trips[['city', 'date', 'photos']]"
   ]
  },
  {
   "cell_type": "markdown",
   "metadata": {},
   "source": [
    "# 4. Groupements et agrégations\n",
    "\n",
    "**TODO**\n",
    "\n",
    "- Calculer le total des photos prises par ville  \n",
    "- Calculer la moyenne des photos selon la météo  \n",
    "- Compter le nombre de voyages par humeur (mood)"
   ]
  },
  {
   "cell_type": "code",
   "execution_count": 36,
   "metadata": {},
   "outputs": [
    {
     "name": "stdout",
     "output_type": "stream",
     "text": [
      "city\n",
      "Bordeaux       230\n",
      "Grenoble         5\n",
      "Lyon           175\n",
      "Marseille      100\n",
      "Montpellier    145\n",
      "Nantes         135\n",
      "Nice           220\n",
      "Paris          280\n",
      "Strasbourg      75\n",
      "Toulouse       175\n",
      "Name: photos, dtype: int64\n",
      "weather\n",
      "cloudy      88.75\n",
      "rainy       31.25\n",
      "snowy        2.50\n",
      "sunny      120.00\n",
      "unknown     47.50\n",
      "Name: photos, dtype: float64\n",
      "mood\n",
      "bored         1\n",
      "calm          2\n",
      "cold          1\n",
      "curious       2\n",
      "excited       3\n",
      "happy         3\n",
      "joyful        2\n",
      "relaxed       2\n",
      "sad           2\n",
      "thoughtful    2\n",
      "dtype: int64\n"
     ]
    }
   ],
   "source": [
    "# Write your code here\n",
    "print(\n",
    "    df_trips.groupby('city')['photos'].sum()\n",
    "    )\n",
    "\n",
    "print(\n",
    "    df_trips.groupby('weather')['photos'].mean()\n",
    "    )\n",
    "\n",
    "print(\n",
    "    df_trips.groupby('mood').size()\n",
    "    )"
   ]
  }
 ],
 "metadata": {
  "kernelspec": {
   "display_name": ".venv",
   "language": "python",
   "name": "python3"
  },
  "language_info": {
   "codemirror_mode": {
    "name": "ipython",
    "version": 3
   },
   "file_extension": ".py",
   "mimetype": "text/x-python",
   "name": "python",
   "nbconvert_exporter": "python",
   "pygments_lexer": "ipython3",
   "version": "3.13.2"
  }
 },
 "nbformat": 4,
 "nbformat_minor": 5
}
